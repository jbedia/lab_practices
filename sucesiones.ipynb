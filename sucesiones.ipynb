{
 "cells": [
  {
   "cell_type": "markdown",
   "metadata": {},
   "source": [
    "# PRACTICA: Limites de Sucesiones\n",
    "## Cálculo - Grado en Ingeniería Civil\n"
   ]
  },
  {
   "cell_type": "markdown",
   "metadata": {},
   "source": [
    "## INTRODUCCIÓN\n",
    "\n",
    "### El lenguaje Octave\n",
    "\n",
    "*Octave* es un lenguaje de programación específicamente diseñado para cálculo numérico con vectores y matrices. Constituye una inferfaz de alto nivel para un buen número de librerías estándar de cálculo numérico como LAPACK o BLAS.\n",
    "\n",
    "La sintaxis de Octave es similar a la de MatLab$^{_{TM}}$. En la gran mayoría de los casos (y probablemente en el 100% de las prácticas de cálculo numérico que realizaréis durante el Grado), los programas escritos en Octave pueden correrse sin ninguna modificación en MatLab$^{_{TM}}$. Dado que MatLab es un software comercial, éste posee un mayor número de funciones que Octave, así como paquetes especializados (*tool-boxes*) no disponibles en Octave, y en algunas ocasiones de indiscutible potencia.\n",
    "\n",
    "No obstante, la funcionalidad requerida para la mayoría de las prácticas del grado está disponible igualmente en Octave. Como contrapartida, Octave es *software libre*, lo que quiere decir no sólo que es gratuíto, sino que, a diferencia de MatLab, otorga al usuario las llamadas 4 libertades sobre el programa que utiliza:\n",
    "\n",
    " * Libertad de usar el programa, con cualquier propósito.\n",
    " * Libertad de acceso al código fuente del programa.\n",
    " * Libertad de copiado y distribución.\n",
    " * Libertad de modificar y mejorar el programa.\n",
    "\n",
    "Existen gran cantidad de manuales de ayuda que permitirán al alumno progresar tanto como desee en sus habilidades como programador en Octave/MatLab. Como primera aproximación, se sugiere el [manual introductorio](http://math.jacobs-university.de/oliver/teaching/iub/resources/octave/octave-intro/octave-intro.html) de Hubert Selhofer *et al.*. Además, los alumnos cuentan con el [manual de Octave/Matlab](http://meteo.unican.es/work/juaco/G328_intro_Octave.pdf) con el que se ha trabajado en la tutoría previa.\n",
    "\n"
   ]
  },
  {
   "cell_type": "markdown",
   "metadata": {},
   "source": [
    "### Objetivos \n",
    "\n",
    "En la presente práctica vamos a trabajar numéricamente con la noción de *sucesión* y *límite*. Los objetivos son:\n",
    "* Familiarizarnos con el entorno de programación de Octave (similar a MatLab a efectos de sintaxis)\n",
    "* Utilizar una función definida por el usuario almacenada en un fichero *.m*\n",
    "* Programar sucesiones sencillas\n",
    "* Aproximar límites numéricamente, aplicando un criterio de error relativo mínimo de la estimación\n",
    "\n",
    "### Entrega de resultados\n",
    "\n",
    "Los trabajos se realizarán por parejas. Las cuestiones planteadas deberán ser contestadas a través de [esta plantilla](https://docs.google.com/document/d/1Lc6VyE6shsszFwpE5GXzGrQqIVAUbk2DcCGlPGf8wyE/edit?usp=sharing)\n",
    "\n",
    "Se puede editar on-line yendo a *Archivo* $\\rightarrow$ *Crear una copia*. Si después se comparte con los compañeros de grupo, es posible editarla simultáneamente cada uno desde su equipo, de forma colaborativa.\n",
    "\n",
    "Alternativamente, puede descargarse en un formato de vuestra elección (*.docx*...) para trabajar localmente yendo a *Archivo* $\\rightarrow$ *Descargar como...*\n",
    "\n",
    "En cualquier caso, el trabajo final deberá ser convertido a *.pdf* y enviado al profesor mediante correo electrónico: **bediaj@unican.es**.\n",
    "\n",
    "\n",
    "### Conceptos involucrados\n",
    "\n",
    "Como se ha visto en la teoría, una sucesión de números reales es una aplicación\n",
    "\n",
    "$$\n",
    "a:\\mathbb{N} \\rightarrow \\mathbb{R}\n",
    "$$\n",
    "\n",
    "Para cada $n \\in \\mathbb{N}$, denotaremos $a_{n} = a(n)$. De este modo, la sucesión pasa a ser escrita de forma compacta como $\\left\\{a_{n}\\right\\}_{n \\in N}$.\n",
    "\n",
    "\n",
    "Se dice que una sucesión $\\left\\{a_{n}\\right\\}_{n \\in N}$ tiene límite $l$ si los valores de $a_{n}$ se acercan tanto como se quiera a $l$ tomando valores de $n$ suficientemente grandes. De forma más precisa, definimos:\n",
    "\n",
    "***\n",
    "\n",
    "**Definición:** Se dice que un número real $l$ es límite de la sucesión $\\left\\{a_{n}\\right\\}_{n \\in N}$, y se representa\n",
    "\n",
    "$$\n",
    "\\lim \\limits_{n \\rightarrow \\infty} a_{n} = l\n",
    "$$\n",
    "\n",
    "o bien\n",
    "\n",
    "$$\n",
    "a_{n} \\rightarrow l\n",
    "$$\n",
    "\n",
    "si:\n",
    "\n",
    "$$\n",
    "\\forall \\epsilon \\gt 0 ~~ \\exists ~ n_{0} \\in \\mathbb{N} ~~  t.q. ~~ \\forall n \\geq n_{0} ~~ \\left| a_{n} - l \\right| < \\epsilon\n",
    "$$\n",
    "\n",
    "\n"
   ]
  },
  {
   "cell_type": "markdown",
   "metadata": {},
   "source": [
    "## Construcción de una sucesión\n",
    "\n",
    "A continuación se demuestra la construccion de una sucesión geométrica. Tenemos dos alternativas: \n",
    "\n",
    "### Operador elemental\n",
    " \n",
    "Consideremos la sucesión $a_n = 2^n$, que consituye una progresión geométrica. Podemos emplear el operador elemental `.^`, el cual aplica la potencia sobre un vector fila determinado. Por ejemplo, para calcular los once primeros términos de esta sucesión, desde 0 hasta 10, simplemente escribimos:\n"
   ]
  },
  {
   "cell_type": "code",
   "execution_count": 10,
   "metadata": {},
   "outputs": [
    {
     "name": "stdout",
     "output_type": "stream",
     "text": [
      "ans =\n",
      "\n",
      "      1      2      4      8     16     32     64    128    256    512   1024\n",
      "\n"
     ]
    }
   ],
   "source": [
    "2.^[0 1 2 3 4 5 6 7 8 9 10]"
   ]
  },
  {
   "cell_type": "markdown",
   "metadata": {},
   "source": [
    "De manera más conveniente, los enteros desde 0 hasta 10 pueden indicarse con el operador `:`, tal que:"
   ]
  },
  {
   "cell_type": "code",
   "execution_count": 13,
   "metadata": {},
   "outputs": [
    {
     "name": "stdout",
     "output_type": "stream",
     "text": [
      "ans =\n",
      "\n",
      "      1      2      4      8     16     32     64    128    256    512   1024\n",
      "\n"
     ]
    }
   ],
   "source": [
    "2.^[0:10]"
   ]
  },
  {
   "cell_type": "markdown",
   "metadata": {},
   "source": [
    "Igualmente, la sucesión $$b_n=\\frac{1}{2^n}$$ se puede expresar con los correspondientes exponentes enteros negativos, tal que:"
   ]
  },
  {
   "cell_type": "code",
   "execution_count": 14,
   "metadata": {},
   "outputs": [
    {
     "name": "stdout",
     "output_type": "stream",
     "text": [
      "ans =\n",
      "\n",
      " Columns 1 through 6:\n",
      "\n",
      "   1.0000e+00   5.0000e-01   2.5000e-01   1.2500e-01   6.2500e-02   3.1250e-02\n",
      "\n",
      " Columns 7 through 11:\n",
      "\n",
      "   1.5625e-02   7.8125e-03   3.9062e-03   1.9531e-03   9.7656e-04\n",
      "\n"
     ]
    }
   ],
   "source": [
    "2.^[0 -1 -2 -3 -4 -5 -6 -7 -8 -9 -10]"
   ]
  },
  {
   "cell_type": "markdown",
   "metadata": {},
   "source": [
    "Secuencia que indicamos de manera más conveniente como:"
   ]
  },
  {
   "cell_type": "code",
   "execution_count": 15,
   "metadata": {},
   "outputs": [
    {
     "name": "stdout",
     "output_type": "stream",
     "text": [
      "ans =\n",
      "\n",
      " Columns 1 through 6:\n",
      "\n",
      "   1.0000e+00   5.0000e-01   2.5000e-01   1.2500e-01   6.2500e-02   3.1250e-02\n",
      "\n",
      " Columns 7 through 11:\n",
      "\n",
      "   1.5625e-02   7.8125e-03   3.9062e-03   1.9531e-03   9.7656e-04\n",
      "\n"
     ]
    }
   ],
   "source": [
    "2.^[0:-1:-10]"
   ]
  },
  {
   "cell_type": "markdown",
   "metadata": {},
   "source": [
    "### Bucle de tipo `for`"
   ]
  },
  {
   "cell_type": "markdown",
   "metadata": {},
   "source": [
    "Para generar la secuencia con un bucle del tipo `for`, la clave será utilizar un índice (llamémoslo `n`), sobre el que se realizarán las iteraciones. Volvemos a repetir el rimer ejemplo $a_n=2^n$ empleando esta estructura de control en bucle:"
   ]
  },
  {
   "cell_type": "code",
   "execution_count": 17,
   "metadata": {},
   "outputs": [
    {
     "name": "stdout",
     "output_type": "stream",
     "text": [
      "a = 1\n",
      "a =\n",
      "\n",
      "   1   2\n",
      "\n",
      "a =\n",
      "\n",
      "   1   2   4\n",
      "\n",
      "a =\n",
      "\n",
      "   1   2   4   8\n",
      "\n",
      "a =\n",
      "\n",
      "    1    2    4    8   16\n",
      "\n",
      "a =\n",
      "\n",
      "    1    2    4    8   16   32\n",
      "\n",
      "a =\n",
      "\n",
      "    1    2    4    8   16   32   64\n",
      "\n",
      "a =\n",
      "\n",
      "     1     2     4     8    16    32    64   128\n",
      "\n",
      "a =\n",
      "\n",
      "     1     2     4     8    16    32    64   128   256\n",
      "\n",
      "a =\n",
      "\n",
      "     1     2     4     8    16    32    64   128   256   512\n",
      "\n",
      "a =\n",
      "\n",
      "      1      2      4      8     16     32     64    128    256    512   1024\n",
      "\n"
     ]
    }
   ],
   "source": [
    "for n = 0:10\n",
    "    a(n+1)=2^n\n",
    "end"
   ]
  },
  {
   "cell_type": "markdown",
   "metadata": {},
   "source": [
    "Así, hemos generado un vector `a` que continene los 10 primeros términos de esta sucesión"
   ]
  },
  {
   "cell_type": "markdown",
   "metadata": {},
   "source": [
    "Para generar la segunda serie $b_n=\\frac{1}{2^n}$, bastaría reemplazar el término `2^n` por `1/2^n`:"
   ]
  },
  {
   "cell_type": "code",
   "execution_count": 19,
   "metadata": {},
   "outputs": [
    {
     "name": "stdout",
     "output_type": "stream",
     "text": [
      "b = 1\n",
      "b =\n",
      "\n",
      "   1.0000   0.5000\n",
      "\n",
      "b =\n",
      "\n",
      "   1.0000   0.5000   0.2500\n",
      "\n",
      "b =\n",
      "\n",
      "   1.0000   0.5000   0.2500   0.1250\n",
      "\n",
      "b =\n",
      "\n",
      "   1.000000   0.500000   0.250000   0.125000   0.062500\n",
      "\n",
      "b =\n",
      "\n",
      "   1.000000   0.500000   0.250000   0.125000   0.062500   0.031250\n",
      "\n",
      "b =\n",
      "\n",
      "   1.000000   0.500000   0.250000   0.125000   0.062500   0.031250   0.015625\n",
      "\n",
      "b =\n",
      "\n",
      " Columns 1 through 6:\n",
      "\n",
      "   1.0000e+00   5.0000e-01   2.5000e-01   1.2500e-01   6.2500e-02   3.1250e-02\n",
      "\n",
      " Columns 7 and 8:\n",
      "\n",
      "   1.5625e-02   7.8125e-03\n",
      "\n",
      "b =\n",
      "\n",
      " Columns 1 through 6:\n",
      "\n",
      "   1.0000e+00   5.0000e-01   2.5000e-01   1.2500e-01   6.2500e-02   3.1250e-02\n",
      "\n",
      " Columns 7 through 9:\n",
      "\n",
      "   1.5625e-02   7.8125e-03   3.9062e-03\n",
      "\n",
      "b =\n",
      "\n",
      " Columns 1 through 6:\n",
      "\n",
      "   1.0000e+00   5.0000e-01   2.5000e-01   1.2500e-01   6.2500e-02   3.1250e-02\n",
      "\n",
      " Columns 7 through 10:\n",
      "\n",
      "   1.5625e-02   7.8125e-03   3.9062e-03   1.9531e-03\n",
      "\n",
      "b =\n",
      "\n",
      " Columns 1 through 6:\n",
      "\n",
      "   1.0000e+00   5.0000e-01   2.5000e-01   1.2500e-01   6.2500e-02   3.1250e-02\n",
      "\n",
      " Columns 7 through 11:\n",
      "\n",
      "   1.5625e-02   7.8125e-03   3.9062e-03   1.9531e-03   9.7656e-04\n",
      "\n"
     ]
    }
   ],
   "source": [
    "for n=0:10\n",
    "    b(n+1)=1/2^n\n",
    "end\n"
   ]
  },
  {
   "cell_type": "markdown",
   "metadata": {},
   "source": [
    "## EJEMPLO I - aproximación numérica de la raíz cuadrada\n",
    "\n",
    "Consideremos en primer lugar la sucesión definida mediante\n",
    "\n",
    "$$\n",
    "x_{k+1} = \\frac{x_{k} + \\alpha}{x_{k} + 1}, ~ x_{1} = \\alpha, \\alpha \\in (0,1)\n",
    "$$\n",
    "\n",
    "Se trata de una sucesión *monótona creciente* y *acotada*, luego *convergente*, cuyo límite $l = \\sqrt{\\alpha}$.\n",
    "\n",
    "Por lo tanto, la sucesión indicada puede emplearse para aproximar la raíz cuadrada $\\sqrt{\\alpha}$ con $\\alpha \\in (0,1)$. Para ello, construiremos un programa en Octave que vaya generando los sucesivos elementos de la sucesión hasta alcanzar un valor $x_{n}$ que consideremos una aproximación suficientemente buena. Para decidir cuánto es *suficientemente bueno* emplearemos como medida de error el **error relativo**, definido como:\n",
    "\n",
    "$$\n",
    "\\left| 1 - \\frac{x_{n}}{x_{n-1}} \\right| ~ < ~ \\epsilon \n",
    "$$\n",
    "\n",
    "donde $\\epsilon$ es una cantidad predefinida por el usuario que mide el error relativo. Así, por ejemplo, tomando $\\epsilon = 10^{-15}$ obtendríamos un resultado de al menos 14 cifras significativas exactas.\n",
    "\n",
    "Se trata entonces de construir un programa que genere los sucesivos elementos de la sucesión: $x_{1}=\\alpha, x_{2}, x_{3}, \\dots, x_{n}$, donde al alcanzar $n$ se cumple el criterio de error relativo máximo admitido, dado por la expresión anterior. El valor $x_{n}$ obtenido será la aproximación numérica a $\\sqrt{\\alpha}$.\n",
    "\n",
    "A continuación se muestra dicho programa, que el alumno deberá analizar para comprender cada una de sus partes, y ejecutar para responder al cuestionario propuesto. Para ello, debe crearse un fichero nuevo que contenga la función (*iter_sqrt.m*), y guardarlo en el directorio de trabajo.\n"
   ]
  },
  {
   "cell_type": "code",
   "execution_count": 20,
   "metadata": {
    "tags": []
   },
   "outputs": [],
   "source": [
    "function [x]=iter_sqrt(alpha,epsilon)\n",
    "    % Raiz cuadrada\n",
    "    % Calcula la raiz cuadrada de alpha con precision relativa epsilon\n",
    "    % Devuelve un vector x conteniendo los elementos de la sucesion\n",
    "    n=0;\n",
    "    if alpha<=1\n",
    "        beta=alpha;\n",
    "    else \n",
    "        beta=1/alpha;\n",
    "    end \n",
    "    x(1)=beta;\n",
    "    err(1)=1;\n",
    "    while err>epsilon\n",
    "        n=n+1;\n",
    "        x(n+1)=(x(n)+beta)/(x(n)+1);\n",
    "        err(n)=abs(1-x(n)/x(n+1));\n",
    "    end\n",
    "    if alpha>1\n",
    "        for i=1:n+1\n",
    "            x(i)=alpha*x(i);\n",
    "        end    \n",
    "    end    \n",
    "end\n",
    "    "
   ]
  },
  {
   "cell_type": "markdown",
   "metadata": {},
   "source": [
    "Nótese el uso de la variable $\\beta$ dentro de la función *iter_sqrt*. Su función es adaptar el programa para que funcione correctamente para cualquier valor de $\\alpha$, y no sólo para $\\alpha \\in (0,1)$. En concreto, entre las líneas 6-10 del código, se distinguen dos casos para evaluar $\\sqrt{\\beta}$:\n",
    "\n",
    " 1. Si $\\beta \\leq 1$, se toma $\\alpha = \\beta$, y se continua.\n",
    " 2. Si $\\beta > 1$, se toma $\\alpha = \\frac{1}{\\beta}$, y se prosigue calculando $\\sqrt{\\alpha}$ mediante la sucesión previamente definida. Se obtiene por lo tanto una sucesión $ \\left\\{ a_{n} \\right\\} $ que converge a $\\sqrt{\\alpha} =  \\frac{1}{\\beta}$. Por lo tanto, multiplicando por $\\beta$ se obtiene una sucesión $x_{n}=\\beta a_{n}$, que tiende a $\\sqrt{\\beta}$. Esta parte se aplica en la condición final del programa, cuando $\\alpha > 1$  (líneas 18-22 del código)."
   ]
  },
  {
   "cell_type": "markdown",
   "metadata": {},
   "source": [
    "### Cuestionario Ejemplo 1\n",
    "\n",
    "Considerando un número aleatorio $x \\in \\mathbb{R}^{+}$ como valor de $\\alpha$, y un error relativo de la estimación inferior a $10^{-9}$, responde a las siguientes cuestiones:\n",
    "\n",
    "##### a) ¿Cuál es el número de iteraciones que se ha requerido para alcanzar la estimación fijada?\n",
    "##### b) Segunda componente del vector $x$ (salida de la función, $x_{2}$)\n",
    "##### c) Última componente del vector $x$ (valor de la estimación, $x_{fin}$)\n",
    "##### d) Error absoluto de la estimación ( $E_{abs} = \\left| x_{fin} - \\sqrt{\\alpha} \\right |$ )\n",
    "##### e) Construye un gráfico en el que se visualice la aproximación al valor exacto tras las sucesivas iteraciones\n",
    "\n",
    "\n",
    "\n",
    "\n",
    "\n"
   ]
  },
  {
   "cell_type": "markdown",
   "metadata": {},
   "source": [
    "****"
   ]
  },
  {
   "cell_type": "markdown",
   "metadata": {},
   "source": [
    "## EJEMPLO 2 - sucesión de Fibonacci y estimación del número $\\phi$"
   ]
  },
  {
   "cell_type": "markdown",
   "metadata": {},
   "source": [
    "### Números de Fibonacci\n",
    "\n",
    "La sucesión de Fibonacci consta de una serie de números naturales que se suman de 2 en 2, a partir de 0 y 1. Básicamente, la sucesión de Fibonacci se realiza sumando siempre los últimos 2 números (todos los números presentes en la sucesión se llaman números de Fibonacci), por lo que su definición es recursiva (y por lo tanto carece de un término general o *razón* para definirla):\n",
    "\n",
    "$$a_{n} = a_{n-1}+a_{n-2}$$\n",
    "\n",
    "De este modo, partiendo de $a_{0}=0$ y $a_{1}=1$, tenemos que \n",
    "* $a_{2} = f_{0}+f_{1} = 0+1 = 1$\n",
    "* $a_{3} = f_{1}+f_{2} = 1+1 = 2$\n",
    "* $a_{4} = f_{2}+f_{3} = 1+2 = 3$\n",
    "* $\\ldots$\n",
    "\n",
    "Es decir:\n",
    "\n",
    "$$a_{n} = \\begin{cases} 1, & \\mbox{si } n=1\\\\ 1, & \\mbox{si } n=2\\\\ a_{n-2}+a_{n-1} & \\mbox{si } n>2 \\end{cases}$$\n",
    "\n",
    "\n",
    "Se trata por lo tanto de una sucesión monotona y creciente, (estrictamente creciente a partir de $n=2$) y divergente $(a_{n} \\rightarrow \\infty)$.\n"
   ]
  },
  {
   "cell_type": "markdown",
   "metadata": {},
   "source": [
    "### Relación con el número $\\phi$\n",
    "\n",
    "El matemático escocés Robert Simson descubrió en 1753 que la relación entre dos números de Fibonacci $f$ sucesivos $\\frac{f_{n + 1}}{f_n}$ se acerca a la relación áurea $\\phi$ cuando $n \\rightarrow \\infty$. El número $phi$, o número áureo (también razón áurea, proporción áurea, número de oro ...) es un número algebraico irracional, conocido desde la antigüedad por sus [interesantes propiedades](https://es.wikipedia.org/wiki/N%C3%BAmero_%C3%A1ureo), que puede calcularse como:\n",
    "\n",
    "$$\\phi = \\frac{1 + \\sqrt{5}}{2} \\approx  1.6180339887 \\ldots$$\n",
    "\n",
    "\n",
    "Así, aunque la razón o cociente entre un término y el inmediatamente anterior se la sucesión de Fibonacci varía continuamente, se trata de una sucesión monótona y acotada, convergente en $\\phi$:\n",
    "\n",
    "$$\\lim\\limits_{n \\rightarrow \\infty}\\frac{f_{n+1}}{f_{n}} = \\phi$$\n"
   ]
  },
  {
   "cell_type": "code",
   "execution_count": 21,
   "metadata": {},
   "outputs": [
    {
     "name": "stdout",
     "output_type": "stream",
     "text": [
      "fi = 1.618033988749895\n"
     ]
    }
   ],
   "source": [
    "format long\n",
    "fi=(1+sqrt(5))/2"
   ]
  },
  {
   "cell_type": "markdown",
   "metadata": {},
   "source": [
    "### Cuestionario Ejemplo 2\n",
    "\n",
    "#### a) Construye un programa que calcule los números de Fibonacci (*fibonacci.m*) hasta una longitud dada predeterminada por el usuario\n",
    "#### b) Construye un programa que aproxime el valor de $\\phi$ aplicando un criterio de error relativo predefinido por el usuario\n",
    "#### c) Mediante la función creada en el anterior apartado, aproxima el valor de $\\phi$ para $\\epsilon = 10^{-6}$.\n",
    "#### d) Calcula el error absoluto de la estimación "
   ]
  },
  {
   "cell_type": "markdown",
   "metadata": {},
   "source": [
    "***"
   ]
  },
  {
   "cell_type": "code",
   "execution_count": null,
   "metadata": {
    "tags": []
   },
   "outputs": [],
   "source": []
  }
 ],
 "metadata": {
  "kernelspec": {
   "display_name": "Octave",
   "language": "octave",
   "name": "octave"
  },
  "language_info": {
   "file_extension": ".m",
   "help_links": [
    {
     "text": "GNU Octave",
     "url": "https://www.gnu.org/software/octave/support.html"
    },
    {
     "text": "Octave Kernel",
     "url": "https://github.com/Calysto/octave_kernel"
    },
    {
     "text": "MetaKernel Magics",
     "url": "https://metakernel.readthedocs.io/en/latest/source/README.html"
    }
   ],
   "mimetype": "text/x-octave",
   "name": "octave",
   "version": "7.1.0"
  }
 },
 "nbformat": 4,
 "nbformat_minor": 4
}
